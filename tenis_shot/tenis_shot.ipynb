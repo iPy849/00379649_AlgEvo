{
 "cells": [
  {
   "cell_type": "markdown",
   "source": [
    "# Problema:\n",
    "En una partido de tenis, dos tenistas disputan un punto que de partido y nosotros apoyamos al segundo tenista ¿Cuáles son las jugadas que le darían la victoria al segundo tenista?\n",
    "\n",
    "# Representación del problema:\n",
    "Nuestras variables son las posiciones de ambos tenistas (t1 y t2) y la posición de la pelota (p). En la cancha existen cuatro posiciones representadas en binario (00...11) que pueden tomar t1, t2 y p, tal que t1 y p no deben tener la misma posición. Finalmente, cada caso se representa como un número binario de 6 bits donde los últimos dos bit representan a la posición t1, los siguientes bits representan la posición de t2 y los primeros 2 bits la posición de la pelota.\n",
    "\n",
    "* 00 -> posición dcha\n",
    "* 01 -> posición ctl\n",
    "* 10 -> posición izq\n",
    "* 11 -> posición net\n",
    "\n",
    "<img src=\"tenis_shot.png\">\n",
    "\n",
    "## Ejemplos de representaciones válidas:\n",
    "* 001101 => t1 = 00, t2 = 11, p = 01\n",
    "* 111100 => t1 = 11, t2 = 11, p = 00\n",
    "* 010000 => t1 = 01, t2 = 00, p = 00\n",
    "\n",
    "# Restricciones:\n",
    "Para que el segundo tenista gane el punto, debe cumplirse una de las condiciones siguientes:\n",
    "1. t2 y p están las posiciones 00, 01 o 10, pero en posiciones no consecutivas.\n",
    "2. t1 está en la posición 01 y p en la posición 11\n",
    "3. t1 está en la posición 11, t2 está en la posición 00 y p en 10 o t2 está en la posición 10 y p en 00"
   ],
   "metadata": {
    "collapsed": false
   }
  },
  {
   "cell_type": "markdown",
   "source": [
    "# Implementación"
   ],
   "metadata": {
    "collapsed": false
   }
  },
  {
   "cell_type": "code",
   "execution_count": 33,
   "outputs": [],
   "source": [
    "# Importar paquetes necesarios\n",
    "import random"
   ],
   "metadata": {
    "collapsed": false,
    "ExecuteTime": {
     "end_time": "2023-06-08T20:08:49.235254Z",
     "start_time": "2023-06-08T20:08:49.203956Z"
    }
   }
  },
  {
   "cell_type": "code",
   "execution_count": 34,
   "outputs": [],
   "source": [
    "# Definición de funciones de ayuda\n",
    "\n",
    "def int_to_bin_nbits(i,n):\n",
    "    \"\"\"Conversión de base 10 a base 2 pero con resultado de n cantidad de bits\"\"\"\n",
    "    b = bin(i)[2:]\n",
    "    if len(b) < n:\n",
    "        b = '0' * (n - len(b)) + b\n",
    "    return b\n"
   ],
   "metadata": {
    "collapsed": false,
    "ExecuteTime": {
     "end_time": "2023-06-08T20:08:49.265745Z",
     "start_time": "2023-06-08T20:08:49.225759Z"
    }
   }
  },
  {
   "cell_type": "code",
   "execution_count": 35,
   "outputs": [],
   "source": [
    "# Definición de funciones de generación de casos\n",
    "\n",
    "def create_case():\n",
    "    \"\"\"Crea un caso para el problema\"\"\"\n",
    "    positions = list(range(0, 4))\n",
    "    t2 = random.choice(positions)\n",
    "    t1 = random.choice(positions)\n",
    "    del positions[positions.index(t1)]\n",
    "    p = random.choice(positions)\n",
    "    return \"\".join([int_to_bin_nbits(p, 2) for p in (t1, t2, p)])\n",
    "\n",
    "\n",
    "def verify_solution(case):\n",
    "    \"\"\"Comprueba que el caso sea solución\"\"\"\n",
    "    t1 = int(f\"0b{case[:2]}\", 2)\n",
    "    t2 = int(f\"0b{case[2:4]}\", 2)\n",
    "    p = int(f\"0b{case[-2:]}\", 2)\n",
    "\n",
    "    cond1 = t1 <= 2 and abs(t1 - p) == 2\n",
    "    cond2 = t1 == 1 and p == 3\n",
    "    cond3_var1 = t2 == 0 and p == 2\n",
    "    cond3_var2 = t2 == 2 and p == 0\n",
    "    cond3 = t1 == 3 and (cond3_var1 or cond3_var2)\n",
    "\n",
    "    return cond1 or cond2 or cond3\n"
   ],
   "metadata": {
    "collapsed": false,
    "ExecuteTime": {
     "end_time": "2023-06-08T20:08:49.266457Z",
     "start_time": "2023-06-08T20:08:49.239051Z"
    }
   }
  },
  {
   "cell_type": "code",
   "execution_count": 36,
   "outputs": [],
   "source": [
    "# Definición de métodos de cruza\n",
    "cross_record = {}\n",
    "\n",
    "def crossover(parent_1, parent_2):\n",
    "    \"\"\"\n",
    "        Dado dos situaciones padres hace un cruza que devuelve dos situaciones hijas.\n",
    "\n",
    "        El método de cruza es romper las representaciones padres en un mismo punto y\n",
    "        generar representaciones hijas a partir de las partes de los padres.\n",
    "    \"\"\"\n",
    "    slice_index = random.randint(1, len(parent_1) - 2)\n",
    "    child_1 = parent_1[: slice_index] + parent_2[slice_index:]\n",
    "    child_2 = parent_2[: slice_index] + parent_1[slice_index:]\n",
    "\n",
    "    # Datos de puntos de corte de las cruzas\n",
    "    if str(slice_index) not in cross_record:\n",
    "        cross_record[str(slice_index)] = 0\n",
    "    cross_record[str(slice_index)] += 1\n",
    "\n",
    "    return child_1, child_2"
   ],
   "metadata": {
    "collapsed": false,
    "ExecuteTime": {
     "end_time": "2023-06-08T20:08:49.266997Z",
     "start_time": "2023-06-08T20:08:49.257845Z"
    }
   }
  },
  {
   "cell_type": "code",
   "execution_count": 37,
   "outputs": [],
   "source": [
    "# Definición de métodos de mutación\n",
    "\n",
    "mut_record = {}\n",
    "\n",
    "def mutation(case, rate):\n",
    "    \"\"\"Dado un porcentaje de posibilidad de mutación, la mutación consiste en cambiar un bit del caso\"\"\"\n",
    "    if random.random() > rate:\n",
    "        return case\n",
    "\n",
    "    mutation_at = random.randint(0, len(case) - 1)\n",
    "    prefix = \"\" if mutation_at == 0 else case[: mutation_at - 1]\n",
    "    gen = '0' if case[mutation_at] == '1' else '1'\n",
    "    suffix = case[mutation_at:]\n",
    "\n",
    "    # Datos de bits de las mutaciones\n",
    "    if str(mutation_at) not in mut_record:\n",
    "        mut_record[str(mutation_at)] = 0\n",
    "    mut_record[str(mutation_at)] += 1\n",
    "\n",
    "    return  prefix + gen + suffix\n"
   ],
   "metadata": {
    "collapsed": false,
    "ExecuteTime": {
     "end_time": "2023-06-08T20:08:49.289059Z",
     "start_time": "2023-06-08T20:08:49.273547Z"
    }
   }
  },
  {
   "cell_type": "markdown",
   "source": [
    "# Solución del problema"
   ],
   "metadata": {
    "collapsed": false
   }
  },
  {
   "cell_type": "code",
   "execution_count": 38,
   "outputs": [],
   "source": [
    "# Variables de la solución\n",
    "\n",
    "solutions = []\n",
    "iterations = 100000\n",
    "mutation_rate = .5"
   ],
   "metadata": {
    "collapsed": false,
    "ExecuteTime": {
     "end_time": "2023-06-08T20:08:49.307333Z",
     "start_time": "2023-06-08T20:08:49.298474Z"
    }
   }
  },
  {
   "cell_type": "code",
   "execution_count": 39,
   "outputs": [
    {
     "name": "stdout",
     "output_type": "stream",
     "text": [
      "000010 011111\n"
     ]
    }
   ],
   "source": [
    "# Generar soluciones iniciales\n",
    "\n",
    "while len(solutions) < 2:\n",
    "    case = create_case()\n",
    "    if verify_solution(case):\n",
    "        solutions.append(case)\n",
    "\n",
    "parent_1, parent_2 = list(solutions)\n",
    "print(parent_1, parent_2)"
   ],
   "metadata": {
    "collapsed": false,
    "ExecuteTime": {
     "end_time": "2023-06-08T20:08:49.327891Z",
     "start_time": "2023-06-08T20:08:49.315194Z"
    }
   }
  },
  {
   "cell_type": "code",
   "execution_count": null,
   "outputs": [],
   "source": [],
   "metadata": {
    "collapsed": false
   }
  },
  {
   "cell_type": "code",
   "execution_count": 40,
   "outputs": [
    {
     "name": "stdout",
     "output_type": "stream",
     "text": [
      "final parents: 001010 010111\n",
      "solutions: ['000010', '011111', '000110', '011011', '001010', '010111', '001110', '010011']\n",
      "total crossovers: 100000 {'3': 25073, '4': 25036, '1': 25006, '2': 24885}\n",
      "total mutations: 100313 {'0': 16683, '1': 16730, '2': 16936, '4': 16526, '5': 16836, '3': 16602}\n"
     ]
    }
   ],
   "source": [
    "# Encontrando más soluciones\n",
    "\n",
    "for i in range(iterations):\n",
    "    parent_1, parent_2 = crossover(parent_1, parent_2)\n",
    "    for child in (parent_1, parent_2):\n",
    "        mutation(child, mutation_rate)\n",
    "        if verify_solution(child) and child not in solutions:\n",
    "            solutions.append(child)\n",
    "\n",
    "print('final parents:', parent_1, parent_2)\n",
    "print(f'solutions: {solutions}')\n",
    "print(f'total crossovers: {sum(cross_record[k] for k in cross_record)}', cross_record)\n",
    "print(f'total mutations: {sum(mut_record[k] for k in mut_record)}', mut_record)"
   ],
   "metadata": {
    "collapsed": false,
    "ExecuteTime": {
     "end_time": "2023-06-08T20:08:50.453248Z",
     "start_time": "2023-06-08T20:08:49.323648Z"
    }
   }
  }
 ],
 "metadata": {
  "kernelspec": {
   "display_name": "Python 3",
   "language": "python",
   "name": "python3"
  },
  "language_info": {
   "codemirror_mode": {
    "name": "ipython",
    "version": 2
   },
   "file_extension": ".py",
   "mimetype": "text/x-python",
   "name": "python",
   "nbconvert_exporter": "python",
   "pygments_lexer": "ipython2",
   "version": "2.7.6"
  }
 },
 "nbformat": 4,
 "nbformat_minor": 0
}
